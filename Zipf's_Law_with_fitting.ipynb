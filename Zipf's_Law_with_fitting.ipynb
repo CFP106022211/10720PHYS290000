{
 "cells": [
  {
   "cell_type": "code",
   "execution_count": 83,
   "metadata": {},
   "outputs": [
    {
     "name": "stdout",
     "output_type": "stream",
     "text": [
      "6331\n",
      "(array([4.882e+03, 6.420e+02, 4.190e+02, 1.870e+02, 1.090e+02, 5.300e+01,\n",
      "       2.100e+01, 1.000e+01, 7.000e+00, 1.000e+00]), array([0.        , 0.74348479, 1.48696958, 2.23045436, 2.97393915,\n",
      "       3.71742394, 4.46090873, 5.20439351, 5.9478783 , 6.69136309,\n",
      "       7.43484788]), <a list of 10 Patch objects>)\n",
      "[0.37174239 1.11522718 1.85871197 2.60219676 3.34568154 4.08916633\n",
      " 4.83265112 5.57613591 6.31962069 7.06310548]\n",
      "[859.96576035  -1.75421861] [[2.24108892e+03 2.60325860e+00]\n",
      " [2.60325860e+00 3.16288489e-03]]\n"
     ]
    },
    {
     "data": {
      "image/png": "[encoded data removed]",
      "text/plain": [
       "<Figure size 432x288 with 1 Axes>"
      ]
     },
     "metadata": {
      "needs_background": "light"
     },
     "output_type": "display_data"
    }
   ],
   "source": [
    "import math\n",
    "import matplotlib.pyplot as plt \n",
    "import numpy as np\n",
    "\n",
    "fp = open('Alice.txt','r',encoding='UTF-8')\n",
    "line = fp.readline()\n",
    "my_dict = {}\n",
    "\n",
    "while line:\n",
    "    s = line.split()\n",
    "    for x in s:\n",
    "        if x not in my_dict:\n",
    "             my_dict[x] = 1\n",
    "        else:\n",
    "             my_dict[x] += 1\n",
    "    line = fp.readline()\n",
    "    \n",
    "fp.close()\n",
    "\n",
    "num = []\n",
    "\n",
    "for key in my_dict:\n",
    "    num.append(my_dict[key])\n",
    "\n",
    "print(len(num))\n",
    "num.sort()\n",
    "num.reverse()\n",
    "lognum=np.log(num)\n",
    "\n",
    "a=plt.hist(lognum,10)\n",
    "print(a)\n",
    "dx=(a[1][1]-a[1][0])\n",
    "bin_center=np.array(a[1][0:-1])+dx/2\n",
    "print(bin_center)\n",
    "\n",
    "from scipy import optimize\n",
    "def test_func(x, amp, alpha):\n",
    "    return amp * x**alpha\n",
    "params, params_covariance = optimize.curve_fit(test_func, bin_center, a[0])\n",
    "print(params, params_covariance)\n",
    "plt.plot(bin_center, test_func(bin_center, params[0],params[1]), \"r*\", label='Fitted functoin')\n",
    "\n",
    "plt.xlabel('Rank of the word')\n",
    "plt.ylabel('Number of the occurance')\n",
    "plt.show()"
   ]
  },
  {
   "cell_type": "code",
   "execution_count": 65,
   "metadata": {},
   "outputs": [
    {
     "name": "stdout",
     "output_type": "stream",
     "text": [
      "-7.273288150277717\n"
     ]
    }
   ],
   "source": [
    "print(params[1])"
   ]
  },
  {
   "cell_type": "code",
   "execution_count": null,
   "metadata": {},
   "outputs": [],
   "source": []
  }
 ],
 "metadata": {
  "kernelspec": {
   "display_name": "Python 3",
   "language": "python",
   "name": "python3"
  },
  "language_info": {
   "codemirror_mode": {
    "name": "ipython",
    "version": 3
   },
   "file_extension": ".py",
   "mimetype": "text/x-python",
   "name": "python",
   "nbconvert_exporter": "python",
   "pygments_lexer": "ipython3",
   "version": "3.7.1"
  }
 },
 "nbformat": 4,
 "nbformat_minor": 2
}
