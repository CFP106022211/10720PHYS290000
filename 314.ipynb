{
 "cells": [
  {
   "cell_type": "code",
   "execution_count": 17,
   "metadata": {},
   "outputs": [
    {
     "name": "stdout",
     "output_type": "stream",
     "text": [
      "[0.69414677 0.48179317]\n"
     ]
    },
    {
     "data": {
      "text/plain": [
       "Text(0, 0.5, 'm')"
      ]
     },
     "execution_count": 17,
     "metadata": {},
     "output_type": "execute_result"
    },
    {
     "data": {
      "image/png": "[encoded data removed]",
      "text/plain": [
       "<Figure size 432x288 with 1 Axes>"
      ]
     },
     "metadata": {
      "needs_background": "light"
     },
     "output_type": "display_data"
    }
   ],
   "source": [
    "import numpy as np\n",
    "import matplotlib.pyplot as plt\n",
    "import math\n",
    "\n",
    "pig = np.random.random(2)\n",
    "print(pig)\n",
    "a=pig[0]*50\n",
    "b=pig[1]*50\n",
    "\n",
    "plt.xlim(0,100)\n",
    "plt.ylim(0,100)\n",
    "\n",
    "plt.plot(a,b,'ro')\n",
    "plt.xlabel(\"m\")\n",
    "plt.ylabel(\"m\")\n",
    "\n",
    "\n"
   ]
  },
  {
   "cell_type": "code",
   "execution_count": 22,
   "metadata": {},
   "outputs": [
    {
     "name": "stdout",
     "output_type": "stream",
     "text": [
      "initial v:30\n",
      "initial theta:30\n"
     ]
    },
    {
     "data": {
      "text/plain": [
       "Text(0, 0.5, 'm')"
      ]
     },
     "execution_count": 22,
     "metadata": {},
     "output_type": "execute_result"
    },
    {
     "data": {
      "image/png": "[encoded data removed]",
      "text/plain": [
       "<Figure size 432x288 with 1 Axes>"
      ]
     },
     "metadata": {
      "needs_background": "light"
     },
     "output_type": "display_data"
    }
   ],
   "source": [
    "\n",
    "v = float(input(\"initial v:\"))\n",
    "angle = math.radians(float(input(\"initial theta:\")))\n",
    "                     \n",
    "t = np.linspace(0,20,100)\n",
    "\n",
    "x = v*(np.cos(angle))*t\n",
    "y= v*(np.sin(angle))*t - 1/2*9.8*t**2\n",
    "\n",
    "\n",
    "plt.plot(a,b,'ro')\n",
    "plt.plot(x,y)\n",
    "        \n",
    "plt.xlim(0,100)\n",
    "plt.ylim(0,100)                     \n",
    "plt.xlabel(\"m\")\n",
    "plt.ylabel(\"m\")\n",
    "                     \n"
   ]
  },
  {
   "cell_type": "code",
   "execution_count": null,
   "metadata": {},
   "outputs": [],
   "source": []
  }
 ],
 "metadata": {
  "kernelspec": {
   "display_name": "Python 3",
   "language": "python",
   "name": "python3"
  },
  "language_info": {
   "codemirror_mode": {
    "name": "ipython",
    "version": 3
   },
   "file_extension": ".py",
   "mimetype": "text/x-python",
   "name": "python",
   "nbconvert_exporter": "python",
   "pygments_lexer": "ipython3",
   "version": "3.7.1"
  }
 },
 "nbformat": 4,
 "nbformat_minor": 2
}
