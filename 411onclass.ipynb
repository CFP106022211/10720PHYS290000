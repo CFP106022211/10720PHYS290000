{
 "cells": [
  {
   "cell_type": "code",
   "execution_count": 7,
   "metadata": {},
   "outputs": [
    {
     "name": "stdout",
     "output_type": "stream",
     "text": [
      "(array([  7.,  32., 109., 243., 231., 228., 108.,  28.,  13.,   1.]), array([-114. ,  -80.4,  -46.8,  -13.2,   20.4,   54. ,   87.6,  121.2,\n",
      "        154.8,  188.4,  222. ]), <a list of 10 Patch objects>)\n",
      "[-97.2 -63.6 -30.    3.6  37.2  70.8 104.4 138.  171.6 205.2]\n",
      "[262.46662157  73.01936468] [[160.91212665 -29.88575526]\n",
      " [-29.88575526  16.63229294]]\n"
     ]
    },
    {
     "data": {
      "image/png": "[encoded data removed]",
      "text/plain": [
       "<Figure size 432x288 with 1 Axes>"
      ]
     },
     "metadata": {
      "needs_background": "light"
     },
     "output_type": "display_data"
    }
   ],
   "source": [
    "import numpy as np\n",
    "import matplotlib.pyplot as plt\n",
    "N = 1000\n",
    "M = 36\n",
    "dM = 6\n",
    "students1 = np.full(N, M)\n",
    "students2 = np.full(N, M)\n",
    "    \n",
    "def play_a(array, dm):\n",
    "    a = np.random.randint(0, len(array))\n",
    "    b = np.random.randint(0, len(array))\n",
    "    \n",
    "    a_hand = np.random.randint(0, 3)\n",
    "    b_hand = np.random.randint(0, 3)\n",
    "    \n",
    "    if a_hand == 0 and b_hand == 2:\n",
    "        array[a] += dm\n",
    "        array[b] -= dm\n",
    "        \n",
    "    elif b_hand == 0 and a_hand == 2:\n",
    "        array[a] -= dm\n",
    "        array[b] += dm\n",
    "    \n",
    "    elif a_hand > b_hand:  \n",
    "        array[a] += dm\n",
    "        array[b] -= dm\n",
    "        \n",
    "    elif a_hand < b_hand:\n",
    "        array[a] -= dm\n",
    "        array[b] += dm\n",
    "    else :\n",
    "        pass\n",
    "    \n",
    "    return array\n",
    "\n",
    "def play_b(array, dm):\n",
    "    a = np.random.randint(0, len(array))\n",
    "    b = np.random.randint(0, len(array))\n",
    "    if array[a] <= 0 or array[b] <= 0:\n",
    "        pass\n",
    "    else :\n",
    "        a_hand = np.random.randint(0, 3)\n",
    "        b_hand = np.random.randint(0, 3)\n",
    "    \n",
    "        if a_hand == 0 and b_hand == 2:\n",
    "            array[a] += dm\n",
    "            array[b] -= dm\n",
    "        \n",
    "        elif b_hand == 0 and a_hand == 2:\n",
    "            array[a] -= dm\n",
    "            array[b] += dm\n",
    "    \n",
    "        elif a_hand > b_hand:  \n",
    "            array[a] += dm\n",
    "            array[b] -= dm\n",
    "        \n",
    "        elif a_hand < b_hand:\n",
    "            array[a] -= dm\n",
    "            array[b] += dm\n",
    "        else :\n",
    "            pass\n",
    "    \n",
    "    \n",
    "    return array\n",
    "\n",
    "for _ in range(50000):\n",
    "    students1 = play_a(students1, dM)\n",
    "    students2 = play_b(students2, dM)\n",
    "\n",
    "a1 = plt.hist(students1, bins = 10, label = \"Liability\")\n",
    "print(a1)\n",
    "dx=(a1[1][1]-a1[1][0])\n",
    "bin_center = np.array(a1[1][0:-1])+dx/2.\n",
    "print(bin_center)\n",
    "\n",
    "from scipy import optimize\n",
    "\n",
    "def test_func(x,amp,s):\n",
    "    \n",
    "    return amp * np.exp(-(x-36)**2/s**2)\n",
    "\n",
    "params, params_covariance = optimize.curve_fit(test_func, bin_center, a1[0])\n",
    "print(params, params_covariance)\n",
    "\n",
    "plt.plot(bin_center, test_func(bin_center,params[0],params[1]),\"r*\",label='Fitted func')\n",
    "plt.hist(students2, bins = 10, label = \"No Liability\")\n",
    "plt.legend(loc = \"best\")\n",
    "plt.show()"
   ]
  },
  {
   "cell_type": "code",
   "execution_count": null,
   "metadata": {},
   "outputs": [],
   "source": []
  },
  {
   "cell_type": "code",
   "execution_count": null,
   "metadata": {},
   "outputs": [],
   "source": []
  }
 ],
 "metadata": {
  "kernelspec": {
   "display_name": "Python 3",
   "language": "python",
   "name": "python3"
  },
  "language_info": {
   "codemirror_mode": {
    "name": "ipython",
    "version": 3
   },
   "file_extension": ".py",
   "mimetype": "text/x-python",
   "name": "python",
   "nbconvert_exporter": "python",
   "pygments_lexer": "ipython3",
   "version": "3.7.1"
  }
 },
 "nbformat": 4,
 "nbformat_minor": 2
}
